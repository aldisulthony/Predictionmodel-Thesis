{
 "cells": [
  {
   "cell_type": "markdown",
   "metadata": {},
   "source": [
    "# Model Testing of Bok Choy Growth Prediction Model"
   ]
  },
  {
   "cell_type": "markdown",
   "metadata": {},
   "source": [
    "This notebook provides command operation to test the prediction model with the given input."
   ]
  },
  {
   "cell_type": "markdown",
   "metadata": {},
   "source": [
    "## Import the Library"
   ]
  },
  {
   "cell_type": "code",
   "execution_count": 1,
   "metadata": {},
   "outputs": [],
   "source": [
    "# Import a mandatory library to save the model\n",
    "import pickle"
   ]
  },
  {
   "cell_type": "markdown",
   "metadata": {},
   "source": [
    "## Import the Model"
   ]
  },
  {
   "cell_type": "code",
   "execution_count": 2,
   "metadata": {},
   "outputs": [],
   "source": [
    "# Load the model and its corresponding Label from the defined folder\n",
    "\n",
    "# Initiate the desired file name and directory to store\n",
    "model_filename = 'Final Result/trained_tree_classifier.pkl'\n",
    "encoder_moist_level_filename = 'Final Result/encoder_moist_level.pkl'\n",
    "encoder_irrigation_level_filename = 'Final Result/encoder_irrigation_level.pkl'\n",
    "\n",
    "# Model \n",
    "with open(model_filename, 'rb') as handle:\n",
    "    classification_tree = pickle.load(handle)\n",
    "    \n",
    "# Label Encoder of Moist Level\n",
    "with open(encoder_moist_level_filename, 'rb') as handle:\n",
    "    moist_label_encoder = pickle.load(handle)\n",
    "    \n",
    "# Label Encoder of Water Intensity\n",
    "with open(encoder_irrigation_level_filename, 'rb') as handle:\n",
    "    irrigation_level_encoder = pickle.load(handle)"
   ]
  },
  {
   "cell_type": "markdown",
   "metadata": {},
   "source": [
    "## Test the Model"
   ]
  },
  {
   "cell_type": "code",
   "execution_count": 3,
   "metadata": {},
   "outputs": [],
   "source": [
    "# Define the attributes value to test the model\n",
    "\n",
    "moist_level = 'High'\n",
    "temperature = 27\n",
    "humidity = 70\n",
    "height = 0.6\n",
    "light_intensity = 1000\n",
    "irrigation_level = 'Sufficient'"
   ]
  },
  {
   "cell_type": "code",
   "execution_count": 4,
   "metadata": {},
   "outputs": [],
   "source": [
    "# Creating the prediction testing function\n",
    "\n",
    "# temp is the temperature value\n",
    "# hum is the humidity value\n",
    "# moist is the soil moisture level\n",
    "# light is the value of the light intensity\n",
    "# irrigate is the level of water intensity\n",
    "\n",
    "def test_model(moist, temp, hum, light, hght, irrigate):\n",
    "    test_array = [moist_label_encoder.transform([moist_level])[0], temperature, humidity, light_intensity, height, irrigation_level_encoder.transform([irrigation_level])[0]]\n",
    "    return test_array"
   ]
  },
  {
   "cell_type": "code",
   "execution_count": 5,
   "metadata": {},
   "outputs": [
    {
     "name": "stdout",
     "output_type": "stream",
     "text": [
      "['Less Optimal']\n"
     ]
    }
   ],
   "source": [
    "# Executing the Model Prediction Function based on the defined input value\n",
    "\n",
    "test_data = test_model(moist_level, temperature, humidity, light_intensity, height, irrigation_level)\n",
    "predict_result = classification_tree.predict([test_data])\n",
    "print(predict_result)"
   ]
  },
  {
   "cell_type": "code",
   "execution_count": 6,
   "metadata": {},
   "outputs": [
    {
     "name": "stdout",
     "output_type": "stream",
     "text": [
      "['Less Optimal']\n"
     ]
    }
   ],
   "source": [
    "# Executing the Model Prediction Function based on the defined input value\n",
    "\n",
    "test_data = test_model('Normal', 23, 70, 3000, 1.2, 'Sufficient')\n",
    "predict_result = classification_tree.predict([test_data])\n",
    "print(predict_result)"
   ]
  },
  {
   "cell_type": "code",
   "execution_count": 10,
   "metadata": {},
   "outputs": [
    {
     "name": "stdout",
     "output_type": "stream",
     "text": [
      "['Less Optimal']\n"
     ]
    }
   ],
   "source": [
    "# Executing the Model Prediction Function based on the defined input value\n",
    "\n",
    "test_data = test_model('Low', 23, 70, 3000, 1.2, 'Sufficient')\n",
    "predict_result = classification_tree.predict([test_data])\n",
    "print(predict_result)"
   ]
  }
 ],
 "metadata": {
  "kernelspec": {
   "display_name": "Python 3",
   "language": "python",
   "name": "python3"
  },
  "language_info": {
   "codemirror_mode": {
    "name": "ipython",
    "version": 3
   },
   "file_extension": ".py",
   "mimetype": "text/x-python",
   "name": "python",
   "nbconvert_exporter": "python",
   "pygments_lexer": "ipython3",
   "version": "3.7.3"
  }
 },
 "nbformat": 4,
 "nbformat_minor": 4
}
